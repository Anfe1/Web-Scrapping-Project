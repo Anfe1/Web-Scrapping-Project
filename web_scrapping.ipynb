{
 "cells": [
  {
   "cell_type": "markdown",
   "id": "3fad282c",
   "metadata": {},
   "source": [
    "## Small Web-Scrapping Temperature Project"
   ]
  },
  {
   "cell_type": "code",
   "execution_count": 19,
   "id": "0f4a8e6e",
   "metadata": {},
   "outputs": [],
   "source": [
    "import requests\n",
    "import pandas as pd"
   ]
  },
  {
   "cell_type": "code",
   "execution_count": 28,
   "id": "55691f7b",
   "metadata": {},
   "outputs": [],
   "source": [
    "# Library for parsing HTML\n",
    "from bs4 import BeautifulSoup"
   ]
  },
  {
   "cell_type": "code",
   "execution_count": 11,
   "id": "7c85c813",
   "metadata": {},
   "outputs": [
    {
     "name": "stdout",
     "output_type": "stream",
     "text": [
      "<bound method Tag.prettify of <div class=\"tombstone-container\">\n",
      "<p class=\"period-name\">Tonight<br/><br/></p>\n",
      "<p><img alt=\"Tonight: Mostly cloudy, with a low around 54. Breezy, with a west wind 16 to 23 mph, with gusts as high as 31 mph. \" class=\"forecast-icon\" src=\"DualImage.php?i=nwind_bkn&amp;j=nbkn\" title=\"Tonight: Mostly cloudy, with a low around 54. Breezy, with a west wind 16 to 23 mph, with gusts as high as 31 mph. \"/></p><p class=\"short-desc\">Mostly Cloudy<br/>and Breezy<br/>then Mostly<br/>Cloudy</p><p class=\"temp temp-low\">Low: 54 °F</p></div>>\n"
     ]
    }
   ],
   "source": [
    "page = requests.get(\"https://forecast.weather.gov/MapClick.php?lat=37.7772&lon=-122.4168\")\n",
    "soup = BeautifulSoup(page.content, 'html.parser')\n",
    "seven_day = soup.find(id=\"seven-day-forecast\")\n",
    "forecast_items = seven_day.find_all(class_=\"tombstone-container\")\n",
    "tonight = forecast_items[0]\n"
   ]
  },
  {
   "cell_type": "code",
   "execution_count": 12,
   "id": "9903ba91",
   "metadata": {},
   "outputs": [
    {
     "name": "stdout",
     "output_type": "stream",
     "text": [
      "<div class=\"tombstone-container\">\n",
      " <p class=\"period-name\">\n",
      "  Tonight\n",
      "  <br/>\n",
      "  <br/>\n",
      " </p>\n",
      " <p>\n",
      "  <img alt=\"Tonight: Mostly cloudy, with a low around 54. Breezy, with a west wind 16 to 23 mph, with gusts as high as 31 mph. \" class=\"forecast-icon\" src=\"DualImage.php?i=nwind_bkn&amp;j=nbkn\" title=\"Tonight: Mostly cloudy, with a low around 54. Breezy, with a west wind 16 to 23 mph, with gusts as high as 31 mph. \"/>\n",
      " </p>\n",
      " <p class=\"short-desc\">\n",
      "  Mostly Cloudy\n",
      "  <br/>\n",
      "  and Breezy\n",
      "  <br/>\n",
      "  then Mostly\n",
      "  <br/>\n",
      "  Cloudy\n",
      " </p>\n",
      " <p class=\"temp temp-low\">\n",
      "  Low: 54 °F\n",
      " </p>\n",
      "</div>\n"
     ]
    }
   ],
   "source": [
    "print(tonight.prettify())"
   ]
  },
  {
   "cell_type": "code",
   "execution_count": 13,
   "id": "89ce822a",
   "metadata": {},
   "outputs": [
    {
     "name": "stdout",
     "output_type": "stream",
     "text": [
      "Tonight\n",
      "Mostly Cloudyand Breezythen MostlyCloudy\n",
      "Low: 54 °F\n"
     ]
    }
   ],
   "source": [
    "period = tonight.find(class_=\"period-name\").get_text()\n",
    "short_desc = tonight.find(class_=\"short-desc\").get_text()\n",
    "temp = tonight.find(class_=\"temp\").get_text()\n",
    "print(period)\n",
    "print(short_desc)\n",
    "print(temp)"
   ]
  },
  {
   "cell_type": "code",
   "execution_count": 14,
   "id": "8943562b",
   "metadata": {},
   "outputs": [
    {
     "name": "stdout",
     "output_type": "stream",
     "text": [
      "Tonight: Mostly cloudy, with a low around 54. Breezy, with a west wind 16 to 23 mph, with gusts as high as 31 mph. \n"
     ]
    }
   ],
   "source": [
    "img = tonight.find(\"img\")\n",
    "desc = img['title']\n",
    "print(desc)"
   ]
  },
  {
   "cell_type": "code",
   "execution_count": 15,
   "id": "32ae60f0",
   "metadata": {},
   "outputs": [
    {
     "data": {
      "text/plain": [
       "['Tonight',\n",
       " 'Friday',\n",
       " 'FridayNight',\n",
       " 'Saturday',\n",
       " 'SaturdayNight',\n",
       " 'Sunday',\n",
       " 'SundayNight',\n",
       " 'Monday',\n",
       " 'MondayNight']"
      ]
     },
     "execution_count": 15,
     "metadata": {},
     "output_type": "execute_result"
    }
   ],
   "source": [
    "period_tags = seven_day.select(\".tombstone-container .period-name\")\n",
    "periods = [pt.get_text() for pt in period_tags]\n",
    "periods"
   ]
  },
  {
   "cell_type": "code",
   "execution_count": 18,
   "id": "72211d09",
   "metadata": {},
   "outputs": [
    {
     "name": "stdout",
     "output_type": "stream",
     "text": [
      "['Mostly Cloudyand Breezythen MostlyCloudy', 'Mostly Cloudy', 'Mostly Cloudy', 'Mostly Cloudy', 'Chance Rain', 'Rain Likelythen ChanceRain', 'Mostly Cloudy', 'Mostly Sunny', 'Mostly Clear']\n",
      "['Low: 54 °F', 'High: 64 °F', 'Low: 53 °F', 'High: 64 °F', 'Low: 57 °F', 'High: 65 °F', 'Low: 54 °F', 'High: 67 °F', 'Low: 51 °F']\n",
      "['Tonight: Mostly cloudy, with a low around 54. Breezy, with a west wind 16 to 23 mph, with gusts as high as 31 mph. ', 'Friday: Mostly cloudy, with a high near 64. West wind 13 to 21 mph, with gusts as high as 26 mph. ', 'Friday Night: Mostly cloudy, with a low around 53. West southwest wind 11 to 20 mph, with gusts as high as 25 mph. ', 'Saturday: Mostly cloudy, with a high near 64. West southwest wind 7 to 17 mph, with gusts as high as 22 mph. ', 'Saturday Night: A 50 percent chance of rain, mainly after 11pm.  Mostly cloudy, with a low around 57. West southwest wind 7 to 14 mph, with gusts as high as 18 mph.  New precipitation amounts of less than a tenth of an inch possible. ', 'Sunday: Rain likely, mainly before 11am.  Mostly cloudy, with a high near 65. Chance of precipitation is 70%. New precipitation amounts of less than a tenth of an inch possible. ', 'Sunday Night: Mostly cloudy, with a low around 54.', 'Monday: Mostly sunny, with a high near 67.', 'Monday Night: Mostly clear, with a low around 51.']\n"
     ]
    }
   ],
   "source": [
    "short_descs = [sd.get_text() for sd in seven_day.select(\".tombstone-container .short-desc\")]\n",
    "temps = [t.get_text() for t in seven_day.select(\".tombstone-container .temp\")]\n",
    "descs = [d[\"title\"] for d in seven_day.select(\".tombstone-container img\")]\n",
    "print(short_descs)\n",
    "print(temps)\n",
    "print(descs)"
   ]
  },
  {
   "cell_type": "code",
   "execution_count": 20,
   "id": "fc1ec9f2",
   "metadata": {},
   "outputs": [
    {
     "data": {
      "text/html": [
       "<div>\n",
       "<style scoped>\n",
       "    .dataframe tbody tr th:only-of-type {\n",
       "        vertical-align: middle;\n",
       "    }\n",
       "\n",
       "    .dataframe tbody tr th {\n",
       "        vertical-align: top;\n",
       "    }\n",
       "\n",
       "    .dataframe thead th {\n",
       "        text-align: right;\n",
       "    }\n",
       "</style>\n",
       "<table border=\"1\" class=\"dataframe\">\n",
       "  <thead>\n",
       "    <tr style=\"text-align: right;\">\n",
       "      <th></th>\n",
       "      <th>period</th>\n",
       "      <th>short_desc</th>\n",
       "      <th>temp</th>\n",
       "      <th>desc</th>\n",
       "    </tr>\n",
       "  </thead>\n",
       "  <tbody>\n",
       "    <tr>\n",
       "      <th>0</th>\n",
       "      <td>Tonight</td>\n",
       "      <td>Mostly Cloudyand Breezythen MostlyCloudy</td>\n",
       "      <td>Low: 54 °F</td>\n",
       "      <td>Tonight: Mostly cloudy, with a low around 54. ...</td>\n",
       "    </tr>\n",
       "    <tr>\n",
       "      <th>1</th>\n",
       "      <td>Friday</td>\n",
       "      <td>Mostly Cloudy</td>\n",
       "      <td>High: 64 °F</td>\n",
       "      <td>Friday: Mostly cloudy, with a high near 64. We...</td>\n",
       "    </tr>\n",
       "    <tr>\n",
       "      <th>2</th>\n",
       "      <td>FridayNight</td>\n",
       "      <td>Mostly Cloudy</td>\n",
       "      <td>Low: 53 °F</td>\n",
       "      <td>Friday Night: Mostly cloudy, with a low around...</td>\n",
       "    </tr>\n",
       "    <tr>\n",
       "      <th>3</th>\n",
       "      <td>Saturday</td>\n",
       "      <td>Mostly Cloudy</td>\n",
       "      <td>High: 64 °F</td>\n",
       "      <td>Saturday: Mostly cloudy, with a high near 64. ...</td>\n",
       "    </tr>\n",
       "    <tr>\n",
       "      <th>4</th>\n",
       "      <td>SaturdayNight</td>\n",
       "      <td>Chance Rain</td>\n",
       "      <td>Low: 57 °F</td>\n",
       "      <td>Saturday Night: A 50 percent chance of rain, m...</td>\n",
       "    </tr>\n",
       "    <tr>\n",
       "      <th>5</th>\n",
       "      <td>Sunday</td>\n",
       "      <td>Rain Likelythen ChanceRain</td>\n",
       "      <td>High: 65 °F</td>\n",
       "      <td>Sunday: Rain likely, mainly before 11am.  Most...</td>\n",
       "    </tr>\n",
       "    <tr>\n",
       "      <th>6</th>\n",
       "      <td>SundayNight</td>\n",
       "      <td>Mostly Cloudy</td>\n",
       "      <td>Low: 54 °F</td>\n",
       "      <td>Sunday Night: Mostly cloudy, with a low around...</td>\n",
       "    </tr>\n",
       "    <tr>\n",
       "      <th>7</th>\n",
       "      <td>Monday</td>\n",
       "      <td>Mostly Sunny</td>\n",
       "      <td>High: 67 °F</td>\n",
       "      <td>Monday: Mostly sunny, with a high near 67.</td>\n",
       "    </tr>\n",
       "    <tr>\n",
       "      <th>8</th>\n",
       "      <td>MondayNight</td>\n",
       "      <td>Mostly Clear</td>\n",
       "      <td>Low: 51 °F</td>\n",
       "      <td>Monday Night: Mostly clear, with a low around 51.</td>\n",
       "    </tr>\n",
       "  </tbody>\n",
       "</table>\n",
       "</div>"
      ],
      "text/plain": [
       "          period                                short_desc         temp  \\\n",
       "0        Tonight  Mostly Cloudyand Breezythen MostlyCloudy   Low: 54 °F   \n",
       "1         Friday                             Mostly Cloudy  High: 64 °F   \n",
       "2    FridayNight                             Mostly Cloudy   Low: 53 °F   \n",
       "3       Saturday                             Mostly Cloudy  High: 64 °F   \n",
       "4  SaturdayNight                               Chance Rain   Low: 57 °F   \n",
       "5         Sunday                Rain Likelythen ChanceRain  High: 65 °F   \n",
       "6    SundayNight                             Mostly Cloudy   Low: 54 °F   \n",
       "7         Monday                              Mostly Sunny  High: 67 °F   \n",
       "8    MondayNight                              Mostly Clear   Low: 51 °F   \n",
       "\n",
       "                                                desc  \n",
       "0  Tonight: Mostly cloudy, with a low around 54. ...  \n",
       "1  Friday: Mostly cloudy, with a high near 64. We...  \n",
       "2  Friday Night: Mostly cloudy, with a low around...  \n",
       "3  Saturday: Mostly cloudy, with a high near 64. ...  \n",
       "4  Saturday Night: A 50 percent chance of rain, m...  \n",
       "5  Sunday: Rain likely, mainly before 11am.  Most...  \n",
       "6  Sunday Night: Mostly cloudy, with a low around...  \n",
       "7         Monday: Mostly sunny, with a high near 67.  \n",
       "8  Monday Night: Mostly clear, with a low around 51.  "
      ]
     },
     "execution_count": 20,
     "metadata": {},
     "output_type": "execute_result"
    }
   ],
   "source": [
    "weather = pd.DataFrame({\n",
    "    \"period\": periods,\n",
    "    \"short_desc\": short_descs,\n",
    "    \"temp\": temps,\n",
    "    \"desc\": descs\n",
    "})\n",
    "weather"
   ]
  },
  {
   "cell_type": "code",
   "execution_count": 23,
   "id": "fbc08a9c",
   "metadata": {},
   "outputs": [
    {
     "data": {
      "text/plain": [
       "0    54\n",
       "1    64\n",
       "2    53\n",
       "3    64\n",
       "4    57\n",
       "5    65\n",
       "6    54\n",
       "7    67\n",
       "8    51\n",
       "Name: temp_num, dtype: object"
      ]
     },
     "execution_count": 23,
     "metadata": {},
     "output_type": "execute_result"
    }
   ],
   "source": [
    "temp_nums = weather[\"temp\"].str.extract(r'(?P<temp_num>\\d+)', expand=False)\n",
    "weather[\"temp_num\"] = temp_nums.astype('int')\n",
    "temp_nums"
   ]
  },
  {
   "cell_type": "code",
   "execution_count": 24,
   "id": "7c4499b5",
   "metadata": {},
   "outputs": [
    {
     "data": {
      "text/plain": [
       "58.77777777777778"
      ]
     },
     "execution_count": 24,
     "metadata": {},
     "output_type": "execute_result"
    }
   ],
   "source": [
    "weather[\"temp_num\"].mean()"
   ]
  },
  {
   "cell_type": "code",
   "execution_count": 25,
   "id": "fae5faff",
   "metadata": {},
   "outputs": [
    {
     "data": {
      "text/plain": [
       "0    False\n",
       "1    False\n",
       "2    False\n",
       "3    False\n",
       "4    False\n",
       "5    False\n",
       "6    False\n",
       "7    False\n",
       "8    False\n",
       "Name: temp, dtype: bool"
      ]
     },
     "execution_count": 25,
     "metadata": {},
     "output_type": "execute_result"
    }
   ],
   "source": [
    "is_night = weather[\"temp\"].str.contains(\"low\")\n",
    "weather[\"is_night\"] = is_night\n",
    "is_night"
   ]
  },
  {
   "cell_type": "code",
   "execution_count": 27,
   "id": "54bf3c57",
   "metadata": {},
   "outputs": [
    {
     "data": {
      "text/plain": [
       "0    False\n",
       "1    False\n",
       "2    False\n",
       "3    False\n",
       "4    False\n",
       "5    False\n",
       "6    False\n",
       "7    False\n",
       "8    False\n",
       "Name: is_night, dtype: bool"
      ]
     },
     "execution_count": 27,
     "metadata": {},
     "output_type": "execute_result"
    }
   ],
   "source": [
    "weather[\"is_night\"]"
   ]
  },
  {
   "cell_type": "code",
   "execution_count": null,
   "id": "73d07344",
   "metadata": {},
   "outputs": [],
   "source": []
  }
 ],
 "metadata": {
  "kernelspec": {
   "display_name": "Python 3 (ipykernel)",
   "language": "python",
   "name": "python3"
  },
  "language_info": {
   "codemirror_mode": {
    "name": "ipython",
    "version": 3
   },
   "file_extension": ".py",
   "mimetype": "text/x-python",
   "name": "python",
   "nbconvert_exporter": "python",
   "pygments_lexer": "ipython3",
   "version": "3.9.7"
  }
 },
 "nbformat": 4,
 "nbformat_minor": 5
}
